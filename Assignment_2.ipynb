{
  "cells": [
    {
      "cell_type": "code",
      "execution_count": null,
      "id": "6524c2ae",
      "metadata": {
        "id": "6524c2ae"
      },
      "outputs": [],
      "source": [
        "#Write a Python program to accept a string value from the user and display\n",
        "the count of each character in that string."
      ]
    },
    {
      "cell_type": "code",
      "execution_count": 3,
      "id": "212ede1a",
      "metadata": {
        "colab": {
          "base_uri": "https://localhost:8080/"
        },
        "id": "212ede1a",
        "outputId": "44419e94-6151-4f1a-9923-b113f83434c9"
      },
      "outputs": [
        {
          "output_type": "stream",
          "name": "stdout",
          "text": [
            "Enter the string:assembly\n",
            " m- 1\n",
            " s- 2\n",
            " l- 1\n",
            " b- 1\n",
            " e- 1\n",
            " y- 1\n",
            " a- 1\n"
          ]
        }
      ],
      "source": [
        "inp_str = input(\"Enter the string:\")\n",
        "for x in set(inp_str):\n",
        "    count=inp_str.count(x)\n",
        "    print(f\" {x}- \"+ str(count))"
      ]
    },
    {
      "cell_type": "code",
      "execution_count": 5,
      "id": "9fc7f64f",
      "metadata": {
        "colab": {
          "base_uri": "https://localhost:8080/"
        },
        "id": "9fc7f64f",
        "outputId": "d59712ee-70ba-454c-d897-d2a5a023f659"
      },
      "outputs": [
        {
          "output_type": "stream",
          "name": "stdout",
          "text": [
            "Enter the number34\n",
            "Enter the number12\n",
            "Enter the number7\n",
            "34\n"
          ]
        }
      ],
      "source": [
        "#2. Write a Python function to find the maximum of three numbers Sample\n",
        "\n",
        "\n",
        "a=int(input(\"Enter the number\"))\n",
        "b=int(input(\"Enter the number\"))\n",
        "c=int(input(\"Enter the number\"))\n",
        "print(max(a,b,c))"
      ]
    },
    {
      "cell_type": "code",
      "execution_count": 8,
      "id": "703c51fd",
      "metadata": {
        "colab": {
          "base_uri": "https://localhost:8080/"
        },
        "id": "703c51fd",
        "outputId": "39a8b38b-35bf-4b5c-df91-e1965ff8055b"
      },
      "outputs": [
        {
          "name": "stdout",
          "output_type": "stream",
          "text": [
            "Enter the number2\n",
            "Enter the number3\n"
          ]
        },
        {
          "output_type": "execute_result",
          "data": {
            "text/plain": [
              "8"
            ]
          },
          "metadata": {},
          "execution_count": 8
        }
      ],
      "source": [
        "# Write a Python function called exponent(base,exp) that returns an integer value of base raises to the power of exp\n",
        "\n",
        "def exponent(base,exp):\n",
        "    return(base**exp)\n",
        "a=int(input(\"Enter the number\"))\n",
        "b=int(input(\"Enter the number\"))\n",
        "exponent(a,b)"
      ]
    },
    {
      "cell_type": "code",
      "execution_count": 10,
      "id": "2c572cee",
      "metadata": {
        "colab": {
          "base_uri": "https://localhost:8080/"
        },
        "id": "2c572cee",
        "outputId": "d28d6579-2724-435a-a072-bc47f4c910f9"
      },
      "outputs": [
        {
          "output_type": "stream",
          "name": "stdout",
          "text": [
            "Enter the number4\n",
            "36\n"
          ]
        }
      ],
      "source": [
        "#Write a Python function that takes a positive integer and returns the sum of the cube of all the positive integers smaller than the specified num\n",
        "\n",
        "n=int(input(\"Enter the number\"))\n",
        "i=0\n",
        "sum=0\n",
        "for i in range(n):\n",
        "    sum=sum+i**3\n",
        "print(sum)"
      ]
    },
    {
      "cell_type": "code",
      "execution_count": 11,
      "id": "11f3a290",
      "metadata": {
        "colab": {
          "base_uri": "https://localhost:8080/"
        },
        "id": "11f3a290",
        "outputId": "615761e2-e81b-4aa0-c227-40e5af72e5e5"
      },
      "outputs": [
        {
          "output_type": "stream",
          "name": "stdout",
          "text": [
            "1\n",
            "Fizz\n",
            "3\n",
            "Fizz\n",
            "Buzz\n",
            "Fizz\n",
            "7\n",
            "Fizz\n",
            "9\n",
            "FizzBuzz\n"
          ]
        }
      ],
      "source": [
        "# Write a Python program which iterates from 1 to 10. For multiples of 2, print “Fizz” instead of the number and for the multiples of 5, print “Buzz”.\n",
        "# For numbers which are multiples of both 2 and 5, print “FizzBuzz”.\n",
        "\n",
        "\n",
        "for i in range(1,11):\n",
        "    if i%2==0 and i%5==0:\n",
        "        print(\"FizzBuzz\")\n",
        "    elif i%2==0:\n",
        "        print(\"Fizz\")\n",
        "    elif i%5==0:\n",
        "        print(\"Buzz\")\n",
        "    else:\n",
        "        print(i)"
      ]
    },
    {
      "cell_type": "code",
      "execution_count": 14,
      "id": "462dd762",
      "metadata": {
        "colab": {
          "base_uri": "https://localhost:8080/"
        },
        "id": "462dd762",
        "outputId": "fe82bf51-a4bf-4c35-ccc6-c1b6d3d13732"
      },
      "outputs": [
        {
          "output_type": "stream",
          "name": "stdout",
          "text": [
            "2\n"
          ]
        }
      ],
      "source": [
        "#Write a Python program to find the most frequent item in a list of numbers.\n",
        "\n",
        "num=[2,3,4,2,5,2]\n",
        "element=max(set(num),key=num.count)\n",
        "print(element)\n",
        "\n"
      ]
    },
    {
      "cell_type": "code",
      "execution_count": null,
      "id": "3198e3b2",
      "metadata": {
        "id": "3198e3b2",
        "outputId": "317c2be8-cec1-4b65-ce03-0ffe498c17da"
      },
      "outputs": [
        {
          "name": "stdout",
          "output_type": "stream",
          "text": [
            "15\n"
          ]
        }
      ],
      "source": [
        "# .Write a Python program to find the sum of squares of the numbers in a list\n",
        "\n",
        "a=[2,1,3,1]\n",
        "i=0\n",
        "sum=0\n",
        "for i in a:\n",
        "    sum=sum+i**2\n",
        "print(sum)\n",
        ""
      ]
    },
    {
      "cell_type": "code",
      "execution_count": 15,
      "id": "5522859d",
      "metadata": {
        "colab": {
          "base_uri": "https://localhost:8080/"
        },
        "id": "5522859d",
        "outputId": "b7065183-caa0-470d-8b8e-1f1c6c67900b"
      },
      "outputs": [
        {
          "output_type": "stream",
          "name": "stdout",
          "text": [
            "1 - odd\n",
            "2 - even\n",
            "3 - odd\n",
            "4 - even\n",
            "5 - odd\n",
            "6 - even\n",
            "7 - odd\n",
            "8 - even\n",
            "9 - odd\n",
            "10 - even\n",
            "11 - odd\n",
            "12 - even\n",
            "13 - odd\n",
            "14 - even\n",
            "15 - odd\n"
          ]
        }
      ],
      "source": [
        "#Write a Python program using for loop that will iterate from 1 to 15. For each iteration, check if the current number is odd or even, and display the\n",
        "# message to the screen as odd or even\n",
        "\n",
        "for i in range(1,16):\n",
        "    if i%2==0:\n",
        "        print(i,\"-\",\"even\")\n",
        "    else:\n",
        "        print(i,\"-\",\"odd\")"
      ]
    },
    {
      "cell_type": "code",
      "execution_count": 16,
      "id": "55dcd47a",
      "metadata": {
        "colab": {
          "base_uri": "https://localhost:8080/"
        },
        "id": "55dcd47a",
        "outputId": "7064567d-dce6-4776-93f5-720a110d3c7c"
      },
      "outputs": [
        {
          "output_type": "stream",
          "name": "stdout",
          "text": [
            "Temperature in Fahrenheit:41\n",
            "Temperature in Celsius 5.0\n"
          ]
        }
      ],
      "source": [
        "#Write a Python program to convert temperatures to and from Celsius Fahrenheit. [Formula: c/5=f-32/9 where c=temperature in Celsius and f=\n",
        " #.temperature in Fahrenheit.]\n",
        "\n",
        "\n",
        "F=int(input(\"Temperature in Fahrenheit:\"))\n",
        "\n",
        "C=(F - 32) * 5 / 9\n",
        "\n",
        "print(\"Temperature in Celsius\",C)"
      ]
    },
    {
      "cell_type": "code",
      "execution_count": 17,
      "id": "b9060393",
      "metadata": {
        "colab": {
          "base_uri": "https://localhost:8080/"
        },
        "id": "b9060393",
        "outputId": "4296691e-3cff-4c2f-f087-eed33f9e0289"
      },
      "outputs": [
        {
          "output_type": "execute_result",
          "data": {
            "text/plain": [
              "120"
            ]
          },
          "metadata": {},
          "execution_count": 17
        }
      ],
      "source": [
        "# Write a Python function to calculate the factorial of a number (a nonnegative integer). The function accepts the number as an argument.\n",
        "\n",
        "def factorial(n):\n",
        "    if (n==1 or n==0):\n",
        "        return 1\n",
        "    else:\n",
        "        return n * factorial(n - 1)\n",
        "factorial(5)"
      ]
    },
    {
      "cell_type": "code",
      "execution_count": null,
      "id": "60e82b25",
      "metadata": {
        "id": "60e82b25"
      },
      "outputs": [],
      "source": []
    }
  ],
  "metadata": {
    "kernelspec": {
      "display_name": "Python 3 (ipykernel)",
      "language": "python",
      "name": "python3"
    },
    "language_info": {
      "codemirror_mode": {
        "name": "ipython",
        "version": 3
      },
      "file_extension": ".py",
      "mimetype": "text/x-python",
      "name": "python",
      "nbconvert_exporter": "python",
      "pygments_lexer": "ipython3",
      "version": "3.9.12"
    },
    "colab": {
      "provenance": []
    }
  },
  "nbformat": 4,
  "nbformat_minor": 5
}